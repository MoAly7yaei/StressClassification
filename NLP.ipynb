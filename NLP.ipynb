{
 "cells": [
  {
   "cell_type": "code",
   "execution_count": 1,
   "id": "initial_id",
   "metadata": {
    "collapsed": true,
    "ExecuteTime": {
     "end_time": "2023-08-11T04:05:21.966239496Z",
     "start_time": "2023-08-11T04:05:15.202010875Z"
    }
   },
   "outputs": [
    {
     "name": "stderr",
     "output_type": "stream",
     "text": [
      "[nltk_data] Downloading package stopwords to\n",
      "[nltk_data]     /home/mohammed/nltk_data...\n",
      "[nltk_data]   Package stopwords is already up-to-date!\n",
      "2023-08-11 08:05:18.147931: I tensorflow/tsl/cuda/cudart_stub.cc:28] Could not find cuda drivers on your machine, GPU will not be used.\n",
      "2023-08-11 08:05:18.644712: I tensorflow/tsl/cuda/cudart_stub.cc:28] Could not find cuda drivers on your machine, GPU will not be used.\n",
      "2023-08-11 08:05:18.647069: I tensorflow/core/platform/cpu_feature_guard.cc:182] This TensorFlow binary is optimized to use available CPU instructions in performance-critical operations.\n",
      "To enable the following instructions: AVX2 FMA, in other operations, rebuild TensorFlow with the appropriate compiler flags.\n",
      "2023-08-11 08:05:20.248950: W tensorflow/compiler/tf2tensorrt/utils/py_utils.cc:38] TF-TRT Warning: Could not find TensorRT\n"
     ]
    }
   ],
   "source": [
    "import pandas as pd\n",
    "import numpy as np\n",
    "from sklearn.feature_extraction.text import TfidfVectorizer\n",
    "from nltk.corpus import stopwords\n",
    "import string\n",
    "import nltk\n",
    "nltk.download('stopwords')\n",
    "import tensorflow as tf\n",
    "from keras.callbacks import EarlyStopping\n",
    "\n"
   ]
  },
  {
   "cell_type": "code",
   "execution_count": 2,
   "id": "4e96f20f96b6ff6c",
   "metadata": {
    "collapsed": false,
    "ExecuteTime": {
     "end_time": "2023-08-11T04:05:22.047521249Z",
     "start_time": "2023-08-11T04:05:21.968998457Z"
    }
   },
   "outputs": [
    {
     "data": {
      "text/plain": "          subreddit post_id sentence_range  \\\n0              ptsd  8601tu       (15, 20)   \n1        assistance  8lbrx9         (0, 5)   \n2              ptsd  9ch1zh       (15, 20)   \n3     relationships  7rorpp        [5, 10]   \n4  survivorsofabuse  9p2gbc         [0, 5]   \n\n                                                text  label  confidence  \\\n0  He said he had not felt that way before, sugge...      1         0.8   \n1  Hey there r/assistance, Not sure if this is th...      0         1.0   \n2  My mom then hit me with the newspaper and it s...      1         0.8   \n3  until i met my new boyfriend, he is amazing, h...      1         0.6   \n4  October is Domestic Violence Awareness Month a...      1         0.8   \n\n   social_timestamp  \n0        1521614353  \n1        1527009817  \n2        1535935605  \n3        1516429555  \n4        1539809005  ",
      "text/html": "<div>\n<style scoped>\n    .dataframe tbody tr th:only-of-type {\n        vertical-align: middle;\n    }\n\n    .dataframe tbody tr th {\n        vertical-align: top;\n    }\n\n    .dataframe thead th {\n        text-align: right;\n    }\n</style>\n<table border=\"1\" class=\"dataframe\">\n  <thead>\n    <tr style=\"text-align: right;\">\n      <th></th>\n      <th>subreddit</th>\n      <th>post_id</th>\n      <th>sentence_range</th>\n      <th>text</th>\n      <th>label</th>\n      <th>confidence</th>\n      <th>social_timestamp</th>\n    </tr>\n  </thead>\n  <tbody>\n    <tr>\n      <th>0</th>\n      <td>ptsd</td>\n      <td>8601tu</td>\n      <td>(15, 20)</td>\n      <td>He said he had not felt that way before, sugge...</td>\n      <td>1</td>\n      <td>0.8</td>\n      <td>1521614353</td>\n    </tr>\n    <tr>\n      <th>1</th>\n      <td>assistance</td>\n      <td>8lbrx9</td>\n      <td>(0, 5)</td>\n      <td>Hey there r/assistance, Not sure if this is th...</td>\n      <td>0</td>\n      <td>1.0</td>\n      <td>1527009817</td>\n    </tr>\n    <tr>\n      <th>2</th>\n      <td>ptsd</td>\n      <td>9ch1zh</td>\n      <td>(15, 20)</td>\n      <td>My mom then hit me with the newspaper and it s...</td>\n      <td>1</td>\n      <td>0.8</td>\n      <td>1535935605</td>\n    </tr>\n    <tr>\n      <th>3</th>\n      <td>relationships</td>\n      <td>7rorpp</td>\n      <td>[5, 10]</td>\n      <td>until i met my new boyfriend, he is amazing, h...</td>\n      <td>1</td>\n      <td>0.6</td>\n      <td>1516429555</td>\n    </tr>\n    <tr>\n      <th>4</th>\n      <td>survivorsofabuse</td>\n      <td>9p2gbc</td>\n      <td>[0, 5]</td>\n      <td>October is Domestic Violence Awareness Month a...</td>\n      <td>1</td>\n      <td>0.8</td>\n      <td>1539809005</td>\n    </tr>\n  </tbody>\n</table>\n</div>"
     },
     "execution_count": 2,
     "metadata": {},
     "output_type": "execute_result"
    }
   ],
   "source": [
    "data = pd.read_csv('./data/Stress.csv')\n",
    "data.head()"
   ]
  },
  {
   "cell_type": "code",
   "execution_count": 2,
   "id": "dea8afd76142f77c",
   "metadata": {
    "collapsed": false,
    "ExecuteTime": {
     "end_time": "2023-08-11T04:05:22.068407678Z",
     "start_time": "2023-08-11T04:05:22.027097969Z"
    }
   },
   "outputs": [],
   "source": []
  },
  {
   "cell_type": "code",
   "execution_count": 3,
   "id": "7b4c234d8d52adad",
   "metadata": {
    "collapsed": false,
    "ExecuteTime": {
     "end_time": "2023-08-11T04:05:22.093153082Z",
     "start_time": "2023-08-11T04:05:22.032955257Z"
    }
   },
   "outputs": [],
   "source": [
    "x = data['text'].astype(str)\n",
    "y = data['label']"
   ]
  },
  {
   "cell_type": "code",
   "execution_count": 3,
   "id": "472d23d8230376bf",
   "metadata": {
    "collapsed": false,
    "ExecuteTime": {
     "end_time": "2023-08-11T04:05:22.093719587Z",
     "start_time": "2023-08-11T04:05:22.076002788Z"
    }
   },
   "outputs": [],
   "source": []
  },
  {
   "cell_type": "code",
   "execution_count": 3,
   "id": "469f243b5e4734d5",
   "metadata": {
    "collapsed": false,
    "ExecuteTime": {
     "end_time": "2023-08-11T04:05:22.093993623Z",
     "start_time": "2023-08-11T04:05:22.076432446Z"
    }
   },
   "outputs": [],
   "source": []
  },
  {
   "cell_type": "code",
   "execution_count": 4,
   "id": "6fd878d9ff0aa7af",
   "metadata": {
    "collapsed": false,
    "ExecuteTime": {
     "end_time": "2023-08-11T04:05:22.094209160Z",
     "start_time": "2023-08-11T04:05:22.076780217Z"
    }
   },
   "outputs": [],
   "source": [
    "from sklearn.model_selection import train_test_split\n"
   ]
  },
  {
   "cell_type": "code",
   "execution_count": 5,
   "id": "b5c77980e68b1ea9",
   "metadata": {
    "collapsed": false,
    "ExecuteTime": {
     "end_time": "2023-08-11T04:05:22.094415430Z",
     "start_time": "2023-08-11T04:05:22.077139508Z"
    }
   },
   "outputs": [],
   "source": [
    "X_train, X_test, y_train, y_test = train_test_split(x,y, test_size=0.2, random_state=10)"
   ]
  },
  {
   "cell_type": "code",
   "execution_count": 6,
   "id": "26e95a140c2b0368",
   "metadata": {
    "collapsed": false,
    "ExecuteTime": {
     "end_time": "2023-08-11T04:05:22.094759310Z",
     "start_time": "2023-08-11T04:05:22.077587062Z"
    }
   },
   "outputs": [],
   "source": [
    "from sklearn.feature_extraction.text import TfidfVectorizer\n",
    "tfidf_vectorizer = TfidfVectorizer()"
   ]
  },
  {
   "cell_type": "code",
   "execution_count": 7,
   "id": "b4b0b5ead5383827",
   "metadata": {
    "collapsed": false,
    "ExecuteTime": {
     "end_time": "2023-08-11T04:05:22.351383126Z",
     "start_time": "2023-08-11T04:05:22.077962539Z"
    }
   },
   "outputs": [],
   "source": [
    "X_train = X_train.astype(str).str.lower()\n",
    "X_test = X_test.astype(str).str.lower()"
   ]
  },
  {
   "cell_type": "code",
   "execution_count": 7,
   "id": "2e7deddb14b1cb2f",
   "metadata": {
    "collapsed": false,
    "ExecuteTime": {
     "end_time": "2023-08-11T04:05:22.351705558Z",
     "start_time": "2023-08-11T04:05:22.121216011Z"
    }
   },
   "outputs": [],
   "source": []
  },
  {
   "cell_type": "code",
   "execution_count": 8,
   "id": "2dc7f275546fd18c",
   "metadata": {
    "collapsed": false,
    "ExecuteTime": {
     "end_time": "2023-08-11T04:05:22.353083982Z",
     "start_time": "2023-08-11T04:05:22.121461558Z"
    }
   },
   "outputs": [],
   "source": [
    "X_train_tfidf = tfidf_vectorizer.fit_transform(X_train)\n",
    "X_test_tfidf = tfidf_vectorizer.transform(X_test)"
   ]
  },
  {
   "cell_type": "code",
   "execution_count": 8,
   "id": "6180640544c555d6",
   "metadata": {
    "collapsed": false,
    "ExecuteTime": {
     "end_time": "2023-08-11T04:05:22.353673622Z",
     "start_time": "2023-08-11T04:05:22.289468104Z"
    }
   },
   "outputs": [],
   "source": []
  },
  {
   "cell_type": "code",
   "execution_count": 8,
   "id": "9c95ad72cebc700e",
   "metadata": {
    "collapsed": false,
    "ExecuteTime": {
     "end_time": "2023-08-11T04:05:22.353912322Z",
     "start_time": "2023-08-11T04:05:22.333551876Z"
    }
   },
   "outputs": [],
   "source": []
  },
  {
   "cell_type": "code",
   "execution_count": 9,
   "id": "69f193d91b0a06e3",
   "metadata": {
    "collapsed": false,
    "ExecuteTime": {
     "end_time": "2023-08-11T04:05:22.354164149Z",
     "start_time": "2023-08-11T04:05:22.333801418Z"
    }
   },
   "outputs": [],
   "source": [
    "from sklearn.pipeline import Pipeline\n",
    "from sklearn.linear_model import LogisticRegression"
   ]
  },
  {
   "cell_type": "code",
   "execution_count": 9,
   "id": "fd5ed1e9d04f6ff0",
   "metadata": {
    "collapsed": false,
    "ExecuteTime": {
     "end_time": "2023-08-11T04:05:22.354393891Z",
     "start_time": "2023-08-11T04:05:22.334004204Z"
    }
   },
   "outputs": [],
   "source": []
  },
  {
   "cell_type": "code",
   "execution_count": 10,
   "id": "43fd4832dc193cd6",
   "metadata": {
    "collapsed": false,
    "ExecuteTime": {
     "end_time": "2023-08-11T04:05:22.656618244Z",
     "start_time": "2023-08-11T04:05:22.334206598Z"
    }
   },
   "outputs": [
    {
     "data": {
      "text/plain": "0.7658450704225352"
     },
     "execution_count": 10,
     "metadata": {},
     "output_type": "execute_result"
    }
   ],
   "source": [
    "pipeline = Pipeline([\n",
    "    ('tfidf', TfidfVectorizer()),\n",
    "    ('classifier', LogisticRegression())\n",
    "])\n",
    "\n",
    "pipeline.fit(X_train, y_train)\n",
    "\n",
    "accuracy = pipeline.score(X_test, y_test)\n",
    "\n",
    "accuracy"
   ]
  },
  {
   "cell_type": "code",
   "execution_count": 11,
   "id": "5c5a627f91a347b8",
   "metadata": {
    "collapsed": false,
    "ExecuteTime": {
     "end_time": "2023-08-11T04:05:22.794901750Z",
     "start_time": "2023-08-11T04:05:22.667739789Z"
    }
   },
   "outputs": [
    {
     "data": {
      "text/plain": "0.7658450704225352"
     },
     "execution_count": 11,
     "metadata": {},
     "output_type": "execute_result"
    }
   ],
   "source": [
    "pipeline.score(X_test,y_test)"
   ]
  },
  {
   "cell_type": "code",
   "execution_count": 12,
   "id": "6ca1a63909e15ed7",
   "metadata": {
    "collapsed": false,
    "ExecuteTime": {
     "end_time": "2023-08-11T04:05:22.797937028Z",
     "start_time": "2023-08-11T04:05:22.713143760Z"
    }
   },
   "outputs": [
    {
     "data": {
      "text/plain": "'Stressed'"
     },
     "execution_count": 12,
     "metadata": {},
     "output_type": "execute_result"
    }
   ],
   "source": [
    "sample_text = [\"I feel stress because of having lot's of assignments in the collage and I have no time and my gpa is lower then 2\"]\n",
    "\n",
    "prediction = pipeline.predict(sample_text)\n",
    "\n",
    "prediction_label = \"Stressed\" if prediction[0] == 1 else \"Not Stressed\"\n",
    "\n",
    "prediction_label\n"
   ]
  },
  {
   "cell_type": "code",
   "execution_count": 13,
   "id": "68835b18d67c1d6e",
   "metadata": {
    "collapsed": false,
    "ExecuteTime": {
     "end_time": "2023-08-11T04:05:22.798276623Z",
     "start_time": "2023-08-11T04:05:22.761366669Z"
    }
   },
   "outputs": [],
   "source": [
    "from sklearn.metrics import precision_score, recall_score, f1_score, roc_auc_score\n"
   ]
  },
  {
   "cell_type": "code",
   "execution_count": 14,
   "id": "16d33989f1cbf255",
   "metadata": {
    "collapsed": false,
    "ExecuteTime": {
     "end_time": "2023-08-11T04:05:22.898895570Z",
     "start_time": "2023-08-11T04:05:22.762067901Z"
    }
   },
   "outputs": [],
   "source": [
    "y_pred = pipeline.predict(X_test)"
   ]
  },
  {
   "cell_type": "markdown",
   "id": "dc4f2c041cfd45df",
   "metadata": {
    "collapsed": false
   },
   "source": []
  },
  {
   "cell_type": "code",
   "execution_count": 15,
   "id": "52b86e1b816b9eab",
   "metadata": {
    "collapsed": false,
    "ExecuteTime": {
     "end_time": "2023-08-11T04:05:22.903979679Z",
     "start_time": "2023-08-11T04:05:22.805291428Z"
    }
   },
   "outputs": [
    {
     "data": {
      "text/plain": "0.746875"
     },
     "execution_count": 15,
     "metadata": {},
     "output_type": "execute_result"
    }
   ],
   "source": [
    "precision = precision_score(y_test, y_pred)\n",
    "precision"
   ]
  },
  {
   "cell_type": "code",
   "execution_count": 16,
   "id": "4948633ab04d7c46",
   "metadata": {
    "collapsed": false,
    "ExecuteTime": {
     "end_time": "2023-08-11T04:05:22.904722100Z",
     "start_time": "2023-08-11T04:05:22.805749833Z"
    }
   },
   "outputs": [
    {
     "data": {
      "text/plain": "0.8213058419243986"
     },
     "execution_count": 16,
     "metadata": {},
     "output_type": "execute_result"
    }
   ],
   "source": [
    "recall = recall_score(y_test, y_pred)\n",
    "recall"
   ]
  },
  {
   "cell_type": "code",
   "execution_count": 17,
   "id": "29fcee332c902f78",
   "metadata": {
    "collapsed": false,
    "ExecuteTime": {
     "end_time": "2023-08-11T04:05:23.054080465Z",
     "start_time": "2023-08-11T04:05:22.806104972Z"
    }
   },
   "outputs": [
    {
     "data": {
      "text/plain": "((2838, 11516), (2838,))"
     },
     "execution_count": 17,
     "metadata": {},
     "output_type": "execute_result"
    }
   ],
   "source": [
    "# Initializing the TfidfVectorizer\n",
    "tfidf = TfidfVectorizer()\n",
    "\n",
    "# Transforming the 'text' column using the vectorizer\n",
    "x = tfidf.fit_transform(data['text'])\n",
    "\n",
    "# Getting the 'label' column values\n",
    "y = data['label'].values\n",
    "\n",
    "# Checking the shapes of the transformed data\n",
    "x.shape, y.shape\n"
   ]
  },
  {
   "cell_type": "code",
   "execution_count": 18,
   "id": "340fd4df097c4763",
   "metadata": {
    "collapsed": false,
    "ExecuteTime": {
     "end_time": "2023-08-11T04:05:23.054564497Z",
     "start_time": "2023-08-11T04:05:22.999282892Z"
    }
   },
   "outputs": [],
   "source": [
    "X_train, X_test, y_train, y_test = train_test_split(x,y , test_size= 0.2, random_state= 40)\n",
    "early_stopper = EarlyStopping(monitor='val_loss', patience=10, restore_best_weights=True)\n"
   ]
  },
  {
   "cell_type": "code",
   "execution_count": 22,
   "id": "7ed41824023f8c18",
   "metadata": {
    "collapsed": false,
    "ExecuteTime": {
     "end_time": "2023-08-11T04:06:26.059839050Z",
     "start_time": "2023-08-11T04:06:22.233303106Z"
    }
   },
   "outputs": [
    {
     "name": "stderr",
     "output_type": "stream",
     "text": [
      "2023-08-11 08:06:25.453533: E tensorflow/compiler/xla/stream_executor/cuda/cuda_driver.cc:268] failed call to cuInit: CUDA_ERROR_NO_DEVICE: no CUDA-capable device is detected\n",
      "2023-08-11 08:06:25.634846: W tensorflow/tsl/framework/cpu_allocator_impl.cc:83] Allocation of 46064000 exceeds 10% of free system memory.\n",
      "2023-08-11 08:06:25.680751: W tensorflow/tsl/framework/cpu_allocator_impl.cc:83] Allocation of 46064000 exceeds 10% of free system memory.\n",
      "2023-08-11 08:06:25.693275: W tensorflow/tsl/framework/cpu_allocator_impl.cc:83] Allocation of 46064000 exceeds 10% of free system memory.\n"
     ]
    }
   ],
   "source": [
    "nn = tf.keras.models.Sequential(\n",
    "    [\n",
    "        tf.keras.layers.Dense(1000, activation='relu', input_shape=(X_train.shape[1],)),\n",
    "        tf.keras.layers.Dropout(0.5),\n",
    "        tf.keras.layers.Dense(500, activation='relu'),\n",
    "        tf.keras.layers.Dropout(0.5),\n",
    "        tf.keras.layers.Dense(250, activation='relu'),\n",
    "        tf.keras.layers.Dropout(0.5),\n",
    "        tf.keras.layers.Dense(125, activation='relu'),\n",
    "        tf.keras.layers.Dropout(0.5),\n",
    "        tf.keras.layers.Dense(64, activation='relu'),\n",
    "        tf.keras.layers.Dropout(0.5),\n",
    "        tf.keras.layers.Dense(32, activation='relu'),\n",
    "        tf.keras.layers.Dropout(0.5),\n",
    "        tf.keras.layers.Dense(16, activation='relu'),\n",
    "        tf.keras.layers.Dropout(0.5),\n",
    "        tf.keras.layers.Dense(8, activation='relu'),\n",
    "        tf.keras.layers.Dropout(0.5),\n",
    "        tf.keras.layers.Dense(4, activation='relu'),\n",
    "        tf.keras.layers.Dropout(0.5),\n",
    "        tf.keras.layers.Dense(2, activation='relu'),\n",
    "        tf.keras.layers.Dropout(0.5),\n",
    "        tf.keras.layers.Dense(1, activation='sigmoid')\n",
    "    ])"
   ]
  },
  {
   "cell_type": "code",
   "execution_count": 23,
   "id": "562c5fbbaa7f0d36",
   "metadata": {
    "collapsed": false,
    "ExecuteTime": {
     "end_time": "2023-08-11T04:06:30.987272184Z",
     "start_time": "2023-08-11T04:06:30.955894943Z"
    }
   },
   "outputs": [],
   "source": [
    "precision_metric = tf.keras.metrics.Precision()\n",
    "nn.compile(optimizer='rmsprop', loss='binary_crossentropy', metrics=['accuracy', precision_metric])"
   ]
  },
  {
   "cell_type": "code",
   "execution_count": 24,
   "id": "c1ce18b5097b67f7",
   "metadata": {
    "collapsed": false,
    "ExecuteTime": {
     "end_time": "2023-08-11T04:06:32.251318187Z",
     "start_time": "2023-08-11T04:06:32.142721605Z"
    }
   },
   "outputs": [
    {
     "name": "stdout",
     "output_type": "stream",
     "text": [
      "Model: \"sequential\"\n",
      "_________________________________________________________________\n",
      " Layer (type)                Output Shape              Param #   \n",
      "=================================================================\n",
      " dense (Dense)               (None, 1000)              11517000  \n",
      "                                                                 \n",
      " dropout (Dropout)           (None, 1000)              0         \n",
      "                                                                 \n",
      " dense_1 (Dense)             (None, 500)               500500    \n",
      "                                                                 \n",
      " dropout_1 (Dropout)         (None, 500)               0         \n",
      "                                                                 \n",
      " dense_2 (Dense)             (None, 250)               125250    \n",
      "                                                                 \n",
      " dropout_2 (Dropout)         (None, 250)               0         \n",
      "                                                                 \n",
      " dense_3 (Dense)             (None, 125)               31375     \n",
      "                                                                 \n",
      " dropout_3 (Dropout)         (None, 125)               0         \n",
      "                                                                 \n",
      " dense_4 (Dense)             (None, 64)                8064      \n",
      "                                                                 \n",
      " dropout_4 (Dropout)         (None, 64)                0         \n",
      "                                                                 \n",
      " dense_5 (Dense)             (None, 32)                2080      \n",
      "                                                                 \n",
      " dropout_5 (Dropout)         (None, 32)                0         \n",
      "                                                                 \n",
      " dense_6 (Dense)             (None, 16)                528       \n",
      "                                                                 \n",
      " dropout_6 (Dropout)         (None, 16)                0         \n",
      "                                                                 \n",
      " dense_7 (Dense)             (None, 8)                 136       \n",
      "                                                                 \n",
      " dropout_7 (Dropout)         (None, 8)                 0         \n",
      "                                                                 \n",
      " dense_8 (Dense)             (None, 4)                 36        \n",
      "                                                                 \n",
      " dropout_8 (Dropout)         (None, 4)                 0         \n",
      "                                                                 \n",
      " dense_9 (Dense)             (None, 2)                 10        \n",
      "                                                                 \n",
      " dropout_9 (Dropout)         (None, 2)                 0         \n",
      "                                                                 \n",
      " dense_10 (Dense)            (None, 1)                 3         \n",
      "                                                                 \n",
      "=================================================================\n",
      "Total params: 12184982 (46.48 MB)\n",
      "Trainable params: 12184982 (46.48 MB)\n",
      "Non-trainable params: 0 (0.00 Byte)\n",
      "_________________________________________________________________\n"
     ]
    }
   ],
   "source": [
    "nn.summary()"
   ]
  },
  {
   "cell_type": "code",
   "execution_count": 25,
   "id": "85c1cb7a32ef9818",
   "metadata": {
    "collapsed": false,
    "ExecuteTime": {
     "end_time": "2023-08-11T04:18:13.898542707Z",
     "start_time": "2023-08-11T04:06:49.310152749Z"
    }
   },
   "outputs": [
    {
     "name": "stderr",
     "output_type": "stream",
     "text": [
      "2023-08-11 08:06:50.143040: W tensorflow/tsl/framework/cpu_allocator_impl.cc:83] Allocation of 104565280 exceeds 10% of free system memory.\n"
     ]
    },
    {
     "name": "stdout",
     "output_type": "stream",
     "text": [
      "Epoch 1/100\n"
     ]
    },
    {
     "name": "stderr",
     "output_type": "stream",
     "text": [
      "2023-08-11 08:06:50.838432: W tensorflow/tsl/framework/cpu_allocator_impl.cc:83] Allocation of 46064000 exceeds 10% of free system memory.\n"
     ]
    },
    {
     "name": "stdout",
     "output_type": "stream",
     "text": [
      "284/284 [==============================] - 32s 106ms/step - loss: 0.6965 - accuracy: 0.5194 - precision: 0.5199 - val_loss: 0.6927 - val_accuracy: 0.5405 - val_precision: 0.5405\n",
      "Epoch 2/100\n",
      "284/284 [==============================] - 30s 107ms/step - loss: 0.6957 - accuracy: 0.5154 - precision: 0.5189 - val_loss: 0.6926 - val_accuracy: 0.5405 - val_precision: 0.5405\n",
      "Epoch 3/100\n",
      "284/284 [==============================] - 30s 107ms/step - loss: 0.6949 - accuracy: 0.5203 - precision: 0.5203 - val_loss: 0.6922 - val_accuracy: 0.5405 - val_precision: 0.5405\n",
      "Epoch 4/100\n",
      "284/284 [==============================] - 28s 99ms/step - loss: 0.6964 - accuracy: 0.5203 - precision: 0.5203 - val_loss: 0.6923 - val_accuracy: 0.5405 - val_precision: 0.5405\n",
      "Epoch 5/100\n",
      "284/284 [==============================] - 29s 103ms/step - loss: 0.6946 - accuracy: 0.5203 - precision: 0.5203 - val_loss: 0.6922 - val_accuracy: 0.5405 - val_precision: 0.5405\n",
      "Epoch 6/100\n",
      "284/284 [==============================] - 28s 98ms/step - loss: 0.6907 - accuracy: 0.5313 - precision: 0.5326 - val_loss: 0.6823 - val_accuracy: 0.6813 - val_precision: 0.8351\n",
      "Epoch 7/100\n",
      "284/284 [==============================] - 28s 99ms/step - loss: 0.6862 - accuracy: 0.5467 - precision: 0.7331 - val_loss: 0.6603 - val_accuracy: 0.6954 - val_precision: 0.8190\n",
      "Epoch 8/100\n",
      "284/284 [==============================] - 32s 114ms/step - loss: 0.6878 - accuracy: 0.5767 - precision: 0.8022 - val_loss: 0.6393 - val_accuracy: 0.6901 - val_precision: 0.8047\n",
      "Epoch 9/100\n",
      "284/284 [==============================] - 31s 108ms/step - loss: 0.6682 - accuracy: 0.5744 - precision: 0.8248 - val_loss: 0.6349 - val_accuracy: 0.6743 - val_precision: 0.8280\n",
      "Epoch 10/100\n",
      "284/284 [==============================] - 36s 128ms/step - loss: 0.7075 - accuracy: 0.5771 - precision: 0.8442 - val_loss: 0.6339 - val_accuracy: 0.6602 - val_precision: 0.8276\n",
      "Epoch 11/100\n",
      "284/284 [==============================] - 29s 102ms/step - loss: 0.7592 - accuracy: 0.5797 - precision: 0.8492 - val_loss: 0.6160 - val_accuracy: 0.7130 - val_precision: 0.7812\n",
      "Epoch 12/100\n",
      "284/284 [==============================] - 29s 102ms/step - loss: 0.6951 - accuracy: 0.5740 - precision: 0.8639 - val_loss: 0.6310 - val_accuracy: 0.6655 - val_precision: 0.8382\n",
      "Epoch 13/100\n",
      "284/284 [==============================] - 30s 107ms/step - loss: 0.7265 - accuracy: 0.5859 - precision: 0.8473 - val_loss: 0.6425 - val_accuracy: 0.6725 - val_precision: 0.8010\n",
      "Epoch 14/100\n",
      "284/284 [==============================] - 32s 113ms/step - loss: 0.6727 - accuracy: 0.5934 - precision: 0.8794 - val_loss: 0.6521 - val_accuracy: 0.6954 - val_precision: 0.8160\n",
      "Epoch 15/100\n",
      "284/284 [==============================] - 31s 107ms/step - loss: 0.8359 - accuracy: 0.5982 - precision: 0.8747 - val_loss: 0.6490 - val_accuracy: 0.6303 - val_precision: 0.8345\n",
      "Epoch 16/100\n",
      "284/284 [==============================] - 29s 103ms/step - loss: 0.7281 - accuracy: 0.5912 - precision: 0.9068 - val_loss: 0.6841 - val_accuracy: 0.6673 - val_precision: 0.8207\n",
      "Epoch 17/100\n",
      "284/284 [==============================] - 30s 104ms/step - loss: 0.7478 - accuracy: 0.5925 - precision: 0.9156 - val_loss: 0.6803 - val_accuracy: 0.6690 - val_precision: 0.8182\n",
      "Epoch 18/100\n",
      "284/284 [==============================] - 30s 105ms/step - loss: 0.6929 - accuracy: 0.5991 - precision: 0.8997 - val_loss: 0.6985 - val_accuracy: 0.6761 - val_precision: 0.8220\n",
      "Epoch 19/100\n",
      "284/284 [==============================] - 30s 107ms/step - loss: 0.7104 - accuracy: 0.5991 - precision: 0.8997 - val_loss: 0.6773 - val_accuracy: 0.6514 - val_precision: 0.8187\n",
      "Epoch 20/100\n",
      "284/284 [==============================] - 33s 116ms/step - loss: 0.6995 - accuracy: 0.5969 - precision: 0.9182 - val_loss: 0.7045 - val_accuracy: 0.6831 - val_precision: 0.8256\n",
      "Epoch 21/100\n",
      "284/284 [==============================] - 47s 167ms/step - loss: 0.7674 - accuracy: 0.6013 - precision: 0.9207 - val_loss: 0.6784 - val_accuracy: 0.6673 - val_precision: 0.8207\n"
     ]
    },
    {
     "data": {
      "text/plain": "<keras.src.callbacks.History at 0x7ff958055910>"
     },
     "execution_count": 25,
     "metadata": {},
     "output_type": "execute_result"
    }
   ],
   "source": [
    "nn.fit(X_train.toarray(), y_train, epochs=100, batch_size=8, validation_data=(X_test.toarray(), y_test), callbacks=[early_stopper])\n"
   ]
  },
  {
   "cell_type": "code",
   "execution_count": 26,
   "id": "30e65ca25fb19ccf",
   "metadata": {
    "collapsed": false,
    "ExecuteTime": {
     "end_time": "2023-08-11T04:18:27.149934898Z",
     "start_time": "2023-08-11T04:18:25.435718121Z"
    }
   },
   "outputs": [
    {
     "name": "stdout",
     "output_type": "stream",
     "text": [
      "18/18 [==============================] - 1s 13ms/step - loss: 0.6160 - accuracy: 0.7130 - precision: 0.7812\n"
     ]
    }
   ],
   "source": [
    "reasults = nn.evaluate(X_test.toarray(), y_test)\n"
   ]
  },
  {
   "cell_type": "code",
   "execution_count": 27,
   "id": "f47860ad486afaa1",
   "metadata": {
    "collapsed": false,
    "ExecuteTime": {
     "end_time": "2023-08-11T04:18:34.894708068Z",
     "start_time": "2023-08-11T04:18:34.846435783Z"
    }
   },
   "outputs": [
    {
     "name": "stdout",
     "output_type": "stream",
     "text": [
      "Test Loss: 0.6160\n",
      "Test Accuracy: 0.7130\n"
     ]
    }
   ],
   "source": [
    "print(f\"Test Loss: {reasults[0]:.4f}\")\n",
    "print(f\"Test Accuracy: {reasults[1]:.4f}\")"
   ]
  },
  {
   "cell_type": "code",
   "execution_count": 33,
   "id": "4334bc6af34a7642",
   "metadata": {
    "collapsed": false,
    "ExecuteTime": {
     "end_time": "2023-08-11T04:19:58.158087885Z",
     "start_time": "2023-08-11T04:19:57.919222371Z"
    }
   },
   "outputs": [
    {
     "name": "stdout",
     "output_type": "stream",
     "text": [
      "1/1 [==============================] - 0s 88ms/step\n"
     ]
    },
    {
     "data": {
      "text/plain": "0.47340965"
     },
     "execution_count": 33,
     "metadata": {},
     "output_type": "execute_result"
    }
   ],
   "source": [
    "sample_text = [\"I feel so much stress because of having lots of assignments in the collage and I have no time and my gpa is lower then 2\"]\n",
    "sample_text_tfidf = tfidf.transform(sample_text)\n",
    "prediction = nn.predict(sample_text_tfidf.toarray())\n",
    "prediction[0][0]"
   ]
  },
  {
   "cell_type": "code",
   "execution_count": 35,
   "id": "1e645e74ac96717a",
   "metadata": {
    "collapsed": false,
    "ExecuteTime": {
     "end_time": "2023-08-11T04:43:54.292867142Z",
     "start_time": "2023-08-11T04:43:54.245014687Z"
    }
   },
   "outputs": [],
   "source": [
    "import os\n",
    "checkpoint_path = \"training/cp.ckpt\"\n",
    "checkpoint_dir = os.path.dirname(checkpoint_path)"
   ]
  },
  {
   "cell_type": "code",
   "execution_count": 36,
   "id": "17c21aaacb22855e",
   "metadata": {
    "collapsed": false,
    "ExecuteTime": {
     "end_time": "2023-08-11T04:44:57.811732788Z",
     "start_time": "2023-08-11T04:44:57.748564707Z"
    }
   },
   "outputs": [],
   "source": [
    "cp_callback = tf.keras.callbacks.ModelCheckpoint(filepath=checkpoint_path,\n",
    "                                                 save_weights_only=True,\n",
    "                                                 verbose=1)"
   ]
  },
  {
   "cell_type": "code",
   "execution_count": 38,
   "outputs": [
    {
     "name": "stdout",
     "output_type": "stream",
     "text": [
      "Epoch 1/10\n",
      "36/36 [==============================] - ETA: 0s - loss: 0.6757 - accuracy: 0.5784 - precision: 0.8916\n",
      "Epoch 1: saving model to training/cp.ckpt\n",
      "36/36 [==============================] - 4s 103ms/step - loss: 0.6757 - accuracy: 0.5784 - precision: 0.8916 - val_loss: 0.6333 - val_accuracy: 0.6602 - val_precision: 0.8393\n",
      "Epoch 2/10\n",
      "36/36 [==============================] - ETA: 0s - loss: 0.6622 - accuracy: 0.5780 - precision: 0.9084\n",
      "Epoch 2: saving model to training/cp.ckpt\n",
      "36/36 [==============================] - 4s 102ms/step - loss: 0.6622 - accuracy: 0.5780 - precision: 0.9084 - val_loss: 0.6366 - val_accuracy: 0.6549 - val_precision: 0.8447\n",
      "Epoch 3/10\n",
      "36/36 [==============================] - ETA: 0s - loss: 0.6720 - accuracy: 0.5819 - precision: 0.9028\n",
      "Epoch 3: saving model to training/cp.ckpt\n",
      "36/36 [==============================] - 4s 104ms/step - loss: 0.6720 - accuracy: 0.5819 - precision: 0.9028 - val_loss: 0.6280 - val_accuracy: 0.6637 - val_precision: 0.8152\n",
      "Epoch 4/10\n",
      "36/36 [==============================] - ETA: 0s - loss: 0.6333 - accuracy: 0.5947 - precision: 0.9143\n",
      "Epoch 4: saving model to training/cp.ckpt\n",
      "36/36 [==============================] - 4s 103ms/step - loss: 0.6333 - accuracy: 0.5947 - precision: 0.9143 - val_loss: 0.6326 - val_accuracy: 0.6620 - val_precision: 0.8402\n",
      "Epoch 5/10\n",
      "36/36 [==============================] - ETA: 0s - loss: 0.6605 - accuracy: 0.5921 - precision: 0.9293\n",
      "Epoch 5: saving model to training/cp.ckpt\n",
      "36/36 [==============================] - 4s 103ms/step - loss: 0.6605 - accuracy: 0.5921 - precision: 0.9293 - val_loss: 0.6352 - val_accuracy: 0.6444 - val_precision: 0.8302\n",
      "Epoch 6/10\n",
      "36/36 [==============================] - ETA: 0s - loss: 0.6601 - accuracy: 0.5952 - precision: 0.9338\n",
      "Epoch 6: saving model to training/cp.ckpt\n",
      "36/36 [==============================] - 4s 107ms/step - loss: 0.6601 - accuracy: 0.5952 - precision: 0.9338 - val_loss: 0.6250 - val_accuracy: 0.6761 - val_precision: 0.8289\n",
      "Epoch 7/10\n",
      "36/36 [==============================] - ETA: 0s - loss: 0.6313 - accuracy: 0.6044 - precision: 0.9436\n",
      "Epoch 7: saving model to training/cp.ckpt\n",
      "36/36 [==============================] - 4s 104ms/step - loss: 0.6313 - accuracy: 0.6044 - precision: 0.9436 - val_loss: 0.6215 - val_accuracy: 0.7025 - val_precision: 0.8224\n",
      "Epoch 8/10\n",
      "36/36 [==============================] - ETA: 0s - loss: 0.6168 - accuracy: 0.6093 - precision: 0.9298\n",
      "Epoch 8: saving model to training/cp.ckpt\n",
      "36/36 [==============================] - 4s 104ms/step - loss: 0.6168 - accuracy: 0.6093 - precision: 0.9298 - val_loss: 0.6236 - val_accuracy: 0.6901 - val_precision: 0.8227\n",
      "Epoch 9/10\n",
      "36/36 [==============================] - ETA: 0s - loss: 0.6329 - accuracy: 0.6115 - precision: 0.9463\n",
      "Epoch 9: saving model to training/cp.ckpt\n",
      "36/36 [==============================] - 4s 104ms/step - loss: 0.6329 - accuracy: 0.6115 - precision: 0.9463 - val_loss: 0.6300 - val_accuracy: 0.6866 - val_precision: 0.8209\n",
      "Epoch 10/10\n",
      "36/36 [==============================] - ETA: 0s - loss: 0.6503 - accuracy: 0.5978 - precision: 0.9408\n",
      "Epoch 10: saving model to training/cp.ckpt\n",
      "36/36 [==============================] - 4s 105ms/step - loss: 0.6503 - accuracy: 0.5978 - precision: 0.9408 - val_loss: 0.6320 - val_accuracy: 0.6690 - val_precision: 0.8182\n"
     ]
    },
    {
     "data": {
      "text/plain": "<keras.src.callbacks.History at 0x7ff928107c90>"
     },
     "execution_count": 38,
     "metadata": {},
     "output_type": "execute_result"
    }
   ],
   "source": [
    "nn.fit(X_train.toarray(), y_train, epochs=10, batch_size=64, validation_data=(X_test.toarray(), y_test), callbacks=[early_stopper, cp_callback])"
   ],
   "metadata": {
    "collapsed": false,
    "ExecuteTime": {
     "end_time": "2023-08-11T04:47:46.941100035Z",
     "start_time": "2023-08-11T04:47:09.035704880Z"
    }
   },
   "id": "cfcb7c955a1ea3f0"
  },
  {
   "cell_type": "code",
   "execution_count": 39,
   "outputs": [
    {
     "data": {
      "text/plain": "['checkpoint', 'cp.ckpt.index', 'cp.ckpt.data-00000-of-00001']"
     },
     "execution_count": 39,
     "metadata": {},
     "output_type": "execute_result"
    }
   ],
   "source": [
    "os.listdir(checkpoint_dir)\n"
   ],
   "metadata": {
    "collapsed": false,
    "ExecuteTime": {
     "end_time": "2023-08-11T04:48:08.163881366Z",
     "start_time": "2023-08-11T04:48:08.130431425Z"
    }
   },
   "id": "41c369cefaaa70bd"
  },
  {
   "cell_type": "code",
   "execution_count": 40,
   "outputs": [
    {
     "name": "stderr",
     "output_type": "stream",
     "text": [
      "/tmp/ipykernel_27733/2146662781.py:1: UserWarning: You are saving your model as an HDF5 file via `model.save()`. This file format is considered legacy. We recommend using instead the native Keras format, e.g. `model.save('my_model.keras')`.\n",
      "  tf.keras.models.save_model(nn, \"training/stress.h5\")\n"
     ]
    }
   ],
   "source": [
    "tf.keras.models.save_model(nn, \"training/stress.h5\")"
   ],
   "metadata": {
    "collapsed": false,
    "ExecuteTime": {
     "end_time": "2023-08-11T04:50:18.994328477Z",
     "start_time": "2023-08-11T04:50:18.802249495Z"
    }
   },
   "id": "b93df9fe0ba49397"
  },
  {
   "cell_type": "code",
   "execution_count": null,
   "outputs": [],
   "source": [],
   "metadata": {
    "collapsed": false
   },
   "id": "eedbf7ad289a58cf"
  }
 ],
 "metadata": {
  "kernelspec": {
   "display_name": "Python 3",
   "language": "python",
   "name": "python3"
  },
  "language_info": {
   "codemirror_mode": {
    "name": "ipython",
    "version": 3
   },
   "file_extension": ".py",
   "mimetype": "text/x-python",
   "name": "python",
   "nbconvert_exporter": "python",
   "pygments_lexer": "ipython3",
   "version": "3.11.3"
  }
 },
 "nbformat": 4,
 "nbformat_minor": 5
}
